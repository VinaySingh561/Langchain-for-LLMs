{
 "cells": [
  {
   "cell_type": "code",
   "execution_count": 2,
   "metadata": {},
   "outputs": [],
   "source": [
    "# !pip install langchain"
   ]
  },
  {
   "cell_type": "markdown",
   "metadata": {},
   "source": [
    "### for logging traces"
   ]
  },
  {
   "cell_type": "code",
   "execution_count": 1,
   "metadata": {},
   "outputs": [],
   "source": [
    "import getpass\n",
    "import os\n",
    "\n",
    "os.environ[\"LANGSMITH_TRACING\"] = \"true\"\n",
    "os.environ[\"LANGSMITH_API_KEY\"] = getpass.getpass()"
   ]
  },
  {
   "cell_type": "markdown",
   "metadata": {},
   "source": [
    "### Integrating LLM"
   ]
  },
  {
   "cell_type": "code",
   "execution_count": 7,
   "metadata": {},
   "outputs": [],
   "source": [
    "# !pip install -qU langchain-groq\n",
    "# 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"
   ]
  },
  {
   "cell_type": "code",
   "execution_count": 98,
   "metadata": {},
   "outputs": [],
   "source": [
    "import getpass\n",
    "import os\n",
    "\n",
    "if not os.environ.get(\"GROQ_API_KEY\"):\n",
    "  os.environ[\"GROQ_API_KEY\"] = getpass.getpass(\"Enter API key for Groq: \")\n",
    "\n",
    "from langchain_groq import ChatGroq\n",
    "\n",
    "model = ChatGroq(model=\"llama-3.3-70b-versatile\", temperature=0.0)"
   ]
  },
  {
   "cell_type": "code",
   "execution_count": 99,
   "metadata": {},
   "outputs": [],
   "source": [
    "# echo %GROQ_API_KEY%"
   ]
  },
  {
   "cell_type": "code",
   "execution_count": 100,
   "metadata": {},
   "outputs": [],
   "source": [
    "from langchain_core.messages import HumanMessage, SystemMessage\n",
    "\n",
    "messages = [\n",
    "    SystemMessage(\"I want to open a restaurant for Indian food. Suggest me a name.\"),\n",
    "\n",
    "]\n",
    "\n",
    "mssg = model.invoke(messages)"
   ]
  },
  {
   "cell_type": "code",
   "execution_count": 101,
   "metadata": {},
   "outputs": [
    {
     "data": {
      "text/plain": [
       "{'content': 'Here are some name suggestions for your Indian restaurant:\\n\\n1. **Tandoori Nights**: Inspired by the traditional Indian clay oven, tandoor, this name evokes a sense of warmth and exotic flavors.\\n2. **Spice Route**: This name references the historic trade route that connected India to the rest of the world, conveying a sense of adventure and diverse flavors.\\n3. **Dhaba**: A dhaba is a traditional Indian roadside eatery, and using this name can create a cozy, casual atmosphere for your restaurant.\\n4. **Mumbai Masala**: This name combines the vibrant city of Mumbai with the idea of blended spices, suggesting a rich and flavorful dining experience.\\n5. **Taste of India**: Simple and straightforward, this name promises customers a authentic taste of Indian cuisine.\\n6. **Bollywood Bites**: This name incorporates the popular Indian film industry, Bollywood, and suggests a fun, lively atmosphere for your restaurant.\\n7. **Garam**: Meaning \"hot\" or \"warm\" in Hindi, this name can create a sense of excitement and energy around your restaurant.\\n8. **Saffron**: This name references the expensive and exotic spice commonly used in Indian cuisine, suggesting a high-end dining experience.\\n9. **Desi Delights**: \"Desi\" means \"homeland\" or \"native\" in Hindi, and this name combines it with \"delights\" to create a sense of comfort and familiarity.\\n10. **Namaste Kitchen**: \"Namaste\" is a traditional Indian greeting, and using it in your restaurant\\'s name can create a sense of warmth and hospitality.\\n\\nChoose the one that resonates with your vision and target audience, or feel free to modify these suggestions to create a unique name for your Indian restaurant!',\n",
       " 'additional_kwargs': {},\n",
       " 'response_metadata': {'token_usage': {'completion_tokens': 360,\n",
       "   'prompt_tokens': 46,\n",
       "   'total_tokens': 406,\n",
       "   'completion_time': 1.309090909,\n",
       "   'prompt_time': 0.008114303,\n",
       "   'queue_time': 0.020937757,\n",
       "   'total_time': 1.317205212},\n",
       "  'model_name': 'llama-3.3-70b-versatile',\n",
       "  'system_fingerprint': 'fp_fcc3b74982',\n",
       "  'finish_reason': 'stop',\n",
       "  'logprobs': None},\n",
       " 'type': 'ai',\n",
       " 'name': None,\n",
       " 'id': 'run-b06d8e62-dd8a-4c13-b66f-12dcc2dde30e-0',\n",
       " 'example': False,\n",
       " 'tool_calls': [],\n",
       " 'invalid_tool_calls': [],\n",
       " 'usage_metadata': {'input_tokens': 46,\n",
       "  'output_tokens': 360,\n",
       "  'total_tokens': 406}}"
      ]
     },
     "execution_count": 101,
     "metadata": {},
     "output_type": "execute_result"
    }
   ],
   "source": [
    "dict(mssg)"
   ]
  },
  {
   "cell_type": "code",
   "execution_count": 96,
   "metadata": {},
   "outputs": [
    {
     "name": "stdout",
     "output_type": "stream",
     "text": [
      "Here are some name suggestions for your Indian restaurant:\n",
      "\n",
      "1. **Tandoori Nights**: Inspired by the traditional Indian clay oven, tandoor, this name evokes a sense of warmth and exotic flavors.\n",
      "2. **Spice Route**: This name references the historic trade route that connected India to the rest of the world, conveying a sense of adventure and diverse flavors.\n",
      "3. **Dhaba**: A dhaba is a traditional Indian roadside eatery, and using this name can create a cozy, casual atmosphere for your restaurant.\n",
      "4. **Mumbai Masala**: This name combines the vibrant city of Mumbai with the idea of blended spices, suggesting a rich and flavorful dining experience.\n",
      "5. **Taste of India**: Simple and straightforward, this name promises customers a authentic taste of Indian cuisine.\n",
      "6. **Bollywood Bites**: This name incorporates the popular Indian film industry, Bollywood, and suggests a fun, lively atmosphere for your restaurant.\n",
      "7. **Garam**: Meaning \"hot\" or \"warm\" in Hindi, this name can create a sense of excitement and energy around your restaurant.\n",
      "8. **Saffron**: This name references the expensive and exotic spice commonly used in Indian cuisine, suggesting a high-end dining experience.\n",
      "9. **Desi Delights**: \"Desi\" means \"homeland\" or \"native\" in Hindi, and this name combines it with \"delights\" to create a sense of comfort and familiarity.\n",
      "10. **Namaste Kitchen**: \"Namaste\" is a traditional Indian greeting, and using it in your restaurant's name can create a sense of warmth and hospitality.\n",
      "\n",
      "Choose the one that resonates with your vision and target audience, or feel free to modify these suggestions to create a unique name for your Indian restaurant!\n"
     ]
    }
   ],
   "source": [
    "print(mssg.content)"
   ]
  },
  {
   "cell_type": "code",
   "execution_count": 116,
   "metadata": {},
   "outputs": [
    {
     "data": {
      "text/plain": [
       "'I want to open a restaurant for Indian food. Suggest me single name ,only name'"
      ]
     },
     "execution_count": 116,
     "metadata": {},
     "output_type": "execute_result"
    }
   ],
   "source": [
    "from langchain.prompts import PromptTemplate\n",
    "\n",
    "prompt_template_name = PromptTemplate(\n",
    "    input_variables=[\"restaurant_type\"],\n",
    "    template=\"I want to open a restaurant for {restaurant_type}. Suggest me single name ,only name\"\n",
    ")\n",
    "prompt_template_name.format(restaurant_type=\"Indian food\")"
   ]
  },
  {
   "cell_type": "code",
   "execution_count": 121,
   "metadata": {},
   "outputs": [
    {
     "name": "stdout",
     "output_type": "stream",
     "text": [
      "Tandoori Nights\n"
     ]
    }
   ],
   "source": [
    "from langchain.chains import LLMChain\n",
    "resturant_chain = LLMChain(llm=model,prompt=prompt_template_name)\n",
    "resturant_name = resturant_chain.run(restaurant_type=\"Indian food\")\n",
    "print(resturant_name)"
   ]
  },
  {
   "cell_type": "code",
   "execution_count": 118,
   "metadata": {},
   "outputs": [],
   "source": [
    "## creating Sequential chain\n",
    "\n",
    "prompt_template_name_food = PromptTemplate(\n",
    "    input_variables=[\"resturant_name\"],\n",
    "    template=\"Please suggest some menu items for {resturant_name}.\"\n",
    ")\n",
    "\n",
    "food_items_chain = LLMChain(llm=model,prompt=prompt_template_name_food)\n"
   ]
  },
  {
   "cell_type": "code",
   "execution_count": 125,
   "metadata": {},
   "outputs": [
    {
     "name": "stdout",
     "output_type": "stream",
     "text": [
      "Tandoori Nights sounds like a wonderful Indian restaurant. Here are some delicious menu item suggestions:\n",
      "\n",
      "**Appetizers**\n",
      "\n",
      "1. Vegetable Samosas - Crispy fried or baked pastries filled with spiced potatoes, peas, and onions.\n",
      "2. Chicken Tikka - Marinated chicken cooked in a creamy tomato sauce, served with a side of cucumber raita.\n",
      "3. Paneer Pakora - Crispy fried cheese fritters served with a side of mint chutney.\n",
      "4. Papdi Chaat - A street food-style snack with boiled potatoes, chickpeas, and yogurt, topped with crispy fried bread and tamarind chutney.\n",
      "\n",
      "**Tandoori Specialties**\n",
      "\n",
      "1. Chicken Tandoori - Marinated chicken cooked in a clay oven, served with a side of cucumber raita and basmati rice.\n",
      "2. Lamb Seekh Kebab - Minced lamb skewers cooked in a clay oven, served with a side of mint chutney.\n",
      "3. Vegetable Tandoori Platter - A selection of marinated vegetables cooked in a clay oven, served with a side of cucumber raita and basmati rice.\n",
      "4. Naan Bread - Leavened, butter-topped flatbread cooked in a clay oven.\n",
      "\n",
      "**Curries**\n",
      "\n",
      "1. Chicken Tikka Masala - Marinated chicken cooked in a creamy tomato sauce, served with basmati rice and naan bread.\n",
      "2. Palak Paneer - Creamy spinach curry with Indian cheese, served with basmati rice and naan bread.\n",
      "3. Lamb Rogan Josh - A classic Kashmiri dish with lamb cooked in a spicy tomato sauce, served with basmati rice and naan bread.\n",
      "4. Chana Masala - A North Indian-style chickpea curry, served with basmati rice and naan bread.\n",
      "\n",
      "**Biryani and Rice**\n",
      "\n",
      "1. Chicken Biryani - A flavorful mixed rice dish with marinated chicken, basmati rice, and spices.\n",
      "2. Vegetable Biryani - A flavorful mixed rice dish with a variety of vegetables, basmati rice, and spices.\n",
      "3. Saffron Rice - Fragrant basmati rice cooked with saffron and cardamom.\n",
      "4. Mattar Pulao - A flavorful rice dish with peas, onions, and spices.\n",
      "\n",
      "**Desserts**\n",
      "\n",
      "1. Gulab Jamun - Deep-fried dumplings soaked in a sweet syrup, served with a sprinkle of cardamom powder.\n",
      "2. Kulfi - Indian-style ice cream with flavors like cardamom, saffron, and pistachio.\n",
      "3. Jalebi - Crispy, fermented batter fried and soaked in a sweet syrup, served with a sprinkle of cardamom powder.\n",
      "4. Ras Malai - A creamy dessert with paneer, milk, and nuts, served with a sprinkle of cardamom powder.\n",
      "\n",
      "**Beverages**\n",
      "\n",
      "1. Mango Lassi - A yogurt-based drink with mango puree and spices.\n",
      "2. Chai - A spiced tea with black tea, milk, and spices.\n",
      "3. Jal Jeera - A cumin-flavored drink with tamarind and mint.\n",
      "4. Nimbu Pani - A refreshing drink with lemon, mint, and spices.\n",
      "\n",
      "I hope these menu item suggestions help inspire the culinary delights at Tandoori Nights!\n"
     ]
    }
   ],
   "source": [
    "food_names = food_items_chain.run(resturant_name=resturant_name)\n",
    "print(food_names)"
   ]
  },
  {
   "cell_type": "code",
   "execution_count": 128,
   "metadata": {},
   "outputs": [],
   "source": [
    "from langchain.chains import SimpleSequentialChain\n",
    "chain = SimpleSequentialChain(chains = [resturant_chain, food_items_chain])\n",
    "response = chain.run(\"Indian food\")"
   ]
  },
  {
   "cell_type": "code",
   "execution_count": 130,
   "metadata": {},
   "outputs": [
    {
     "name": "stdout",
     "output_type": "stream",
     "text": [
      "Tandoori Nights sounds like a wonderful Indian restaurant. Here are some delicious menu item suggestions:\n",
      "\n",
      "**Appetizers**\n",
      "\n",
      "1. Vegetable Samosas - Crispy fried or baked pastries filled with spiced potatoes, peas, and onions.\n",
      "2. Chicken Tikka - Marinated chicken cooked in a creamy tomato sauce, served with a side of cucumber raita.\n",
      "3. Paneer Pakora - Crispy fried cheese fritters served with a side of mint chutney.\n",
      "4. Papdi Chaat - A street food-style snack with boiled potatoes, chickpeas, and yogurt, topped with crispy fried bread and tamarind chutney.\n",
      "\n",
      "**Tandoori Specialties**\n",
      "\n",
      "1. Chicken Tandoori - Marinated chicken cooked in a clay oven, served with a side of cucumber raita and basmati rice.\n",
      "2. Lamb Seekh Kebab - Minced lamb skewers cooked in a clay oven, served with a side of mint chutney.\n",
      "3. Vegetable Tandoori Platter - A selection of marinated vegetables cooked in a clay oven, served with a side of cucumber raita and basmati rice.\n",
      "4. Naan Bread - Leavened, butter-topped flatbread cooked in a clay oven, perfect for sopping up sauces.\n",
      "\n",
      "**Curries and Entrees**\n",
      "\n",
      "1. Chicken Tikka Masala - Marinated chicken cooked in a creamy tomato sauce, served with basmati rice and naan bread.\n",
      "2. Palak Paneer - Creamy spinach curry with Indian cheese, served with basmati rice and naan bread.\n",
      "3. Lamb Rogan Josh - A classic Kashmiri dish with lamb cooked in a spicy tomato sauce, served with basmati rice and naan bread.\n",
      "4. Vegetable Korma - A mild and creamy curry with a mix of vegetables, served with basmati rice and naan bread.\n",
      "\n",
      "**Sides and Desserts**\n",
      "\n",
      "1. Basmati Rice - Fragrant, long-grain rice cooked to perfection.\n",
      "2. Raita - A cool and creamy yogurt side dish with cucumber, cumin, and coriander.\n",
      "3. Garlic Naan - Leavened flatbread topped with garlic butter and coriander.\n",
      "4. Gulab Jamun - Deep-fried dumplings soaked in a sweet, rosewater syrup, served with a sprinkle of cardamom powder.\n",
      "5. Kulfi - Indian-style ice cream with flavors like cardamom, saffron, or mango.\n",
      "\n",
      "**Beverages**\n",
      "\n",
      "1. Mango Lassi - A yogurt-based drink with mango puree and a touch of cardamom.\n",
      "2. Chai - Spiced tea with black tea, milk, and a blend of spices like cinnamon, cardamom, and ginger.\n",
      "3. Kingfisher Beer - A popular Indian beer that pairs well with spicy dishes.\n",
      "4. Jal Jeera - A spicy, cumin-flavored drink made with tamarind, mint, and lime juice.\n",
      "\n",
      "These menu items should give you a good starting point for creating a delicious and authentic Indian dining experience at Tandoori Nights.\n"
     ]
    }
   ],
   "source": [
    "print(response)"
   ]
  },
  {
   "cell_type": "code",
   "execution_count": 142,
   "metadata": {},
   "outputs": [
    {
     "name": "stdout",
     "output_type": "stream",
     "text": [
      "Tandoori Nights sounds like a fantastic Indian restaurant. Here are some delicious menu item suggestions to get you started:\n",
      "\n",
      "**Appetizers**\n",
      "\n",
      "1. Vegetable Samosas - Crispy fried or baked pastries filled with spiced potatoes, peas, and onions.\n",
      "2. Chicken Tikka - Marinated chicken cooked in a creamy tomato sauce, served with a side of cucumber raita.\n",
      "3. Paneer Tikka - Indian cheese marinated in spices and yogurt, grilled to perfection.\n",
      "4. Papri Chaat - A flavorful street food snack made with boiled potatoes, chickpeas, and yogurt, topped with crispy papri and chutneys.\n",
      "5. Onion Bhajis - Crispy fried onion fritters served with a side of mint chutney.\n",
      "\n",
      "**Tandoori Specialties**\n",
      "\n",
      "1. Chicken Tandoori - Classic Indian dish made by marinating chicken in yogurt and spices, then roasting it in a tandoor oven.\n",
      "2. Lamb Seekh Kebab - Minced lamb mixed with spices and herbs, grilled to perfection in a tandoor oven.\n",
      "3. Vegetable Tandoori - A colorful mix of marinated vegetables, such as bell peppers, cauliflower, and onions, roasted in a tandoor oven.\n",
      "4. Fish Tikka - Marinated fish cooked in a creamy tomato sauce, served with a side of basmati rice.\n",
      "5. Tandoori Chicken Tikka Masala - A twist on the classic dish, made by cooking chicken tikka in a rich, creamy tomato sauce.\n",
      "\n",
      "**Curries and Entrees**\n",
      "\n",
      "1. Chicken Korma - A mild and creamy curry made with marinated chicken, nuts, and dried fruits.\n",
      "2. Palak Paneer - A creamy spinach curry made with Indian cheese, spinach puree, and spices.\n",
      "3. Lamb Rogan Josh - A classic Kashmiri dish made with lamb cooked in a rich, spicy sauce.\n",
      "4. Chana Masala - A popular North Indian dish made with chickpeas cooked in a flavorful tomato-based sauce.\n",
      "5. Saag Aloo - A spicy mustard green curry made with potatoes, onions, and garlic.\n",
      "\n",
      "**Breads and Sides**\n",
      "\n",
      "1. Naan Bread - Leavened, butter-topped flatbread perfect for scooping up curries.\n",
      "2. Garlic Naan - A flavorful variation of naan bread, topped with garlic and cilantro.\n",
      "3. Basmati Rice - Fragrant, long-grain rice cooked to perfection.\n",
      "4. Raita - A cool and creamy side dish made with yogurt, cucumber, and cumin.\n",
      "5. Papadum - Thin, crispy flatbread served with a side of chutneys.\n",
      "\n",
      "**Desserts**\n",
      "\n",
      "1. Gulab Jamun - Deep-fried dumplings soaked in a sweet, rosewater syrup.\n",
      "2. Kulfi - Indian-style ice cream made with cream, sugar, and flavorings like cardamom and saffron.\n",
      "3. Jalebi - Crispy, fermented batter fried and soaked in a sweet syrup.\n",
      "4. Barfi - A dense, sweet confection made with condensed milk, nuts, and dried fruits.\n",
      "5. Ras Malai - A creamy dessert made with paneer, milk, and nuts, flavored with cardamom and saffron.\n",
      "\n",
      "These are just a few ideas to get you started. You can always experiment with different flavors and ingredients to create your own unique menu items. Good luck with Tandoori Nights!\n"
     ]
    }
   ],
   "source": [
    "## for both ouput at the same time\n",
    "\n",
    "model1= ChatGroq(model=\"llama-3.3-70b-versatile\", temperature=0.5)\n",
    "prompt_template_name_food = PromptTemplate(\n",
    "    input_variables=[\"cuisine\"],\n",
    "    template=\"I want to open a restaurant for {cuisine}. Suggest me single name ,only name\"\n",
    ")\n",
    "\n",
    "name_chain = LLMChain(llm=model1,prompt=prompt_template_name_food, \n",
    "                            output_key= \"restaurant_name\")\n",
    "\n",
    "model2= ChatGroq(model=\"llama-3.3-70b-versatile\", temperature=0.5)\n",
    "prompt_template_name = PromptTemplate(\n",
    "    input_variables=[\"restaurant_name\"],\n",
    "    template=\"Suggestions for menu items for {restaurant_name}.\"\n",
    ")\n",
    "food_items_chain = LLMChain(llm=model2,prompt=prompt_template_name,\n",
    "                            output_key= \"food_items\")\n",
    "print(food_items_chain.run(restaurant_name=name_chain.run(cuisine=\"Indian food\")))"
   ]
  },
  {
   "cell_type": "code",
   "execution_count": 143,
   "metadata": {},
   "outputs": [
    {
     "data": {
      "text/plain": [
       "{'cuisine': 'Indian food',\n",
       " 'restaurant_name': 'Tandoori Nights',\n",
       " 'food_items': 'Tandoori Nights sounds like a delicious Indian restaurant. Here are some menu item suggestions to get you started:\\n\\n**Appetizers**\\n\\n1. Papdi Chaat: Crispy fried flour bread served with yogurt, chickpeas, and tamarind chutney.\\n2. Vegetable Samosas: Crunchy pastry filled with spiced potatoes, peas, and onions.\\n3. Chicken Tikka: Marinated chicken cooked in a creamy tomato sauce, served with cucumber raita.\\n4. Paneer Tikka: Indian cheese marinated in spices and yogurt, grilled to perfection.\\n5. Onion Bhajis: Crispy fried onion fritters served with a side of mint chutney.\\n\\n**Tandoori Specialties**\\n\\n1. Chicken Tandoori: Classic Indian dish made by marinating chicken in spices and yogurt, then cooking it in a tandoor oven.\\n2. Lamb Seekh Kebab: Minced lamb mixed with spices and herbs, grilled to perfection.\\n3. Vegetable Tandoori: A colorful mix of marinated vegetables, cooked in a tandoor oven.\\n4. Shrimp Tandoori: Succulent shrimp marinated in spices and yogurt, grilled to perfection.\\n5. Naan Bread: Leavened, buttered flatbread cooked in a tandoor oven.\\n\\n**Curries and Entrees**\\n\\n1. Chicken Tikka Masala: A popular Indian dish made with marinated chicken cooked in a creamy tomato sauce.\\n2. Palak Paneer: Creamy spinach curry with Indian cheese, served with basmati rice.\\n3. Lamb Rogan Josh: A classic Kashmiri dish made with lamb cooked in a rich, spicy sauce.\\n4. Vegetable Korma: A mild and creamy curry made with a mix of vegetables and nuts.\\n5. Chicken Biryani: A flavorful rice dish made with marinated chicken, basmati rice, and spices.\\n\\n**Sides and Desserts**\\n\\n1. Basmati Rice: Fragrant, long-grain rice cooked to perfection.\\n2. Raita: A cool and creamy side made with yogurt, cucumber, and cumin.\\n3. Naan Bread: Leavened, buttered flatbread cooked in a tandoor oven.\\n4. Gulab Jamun: Deep-fried dumplings soaked in a sweet, rosewater syrup.\\n5. Kulfi: Indian-style ice cream made with milk, cream, and spices.\\n\\n**Beverages**\\n\\n1. Mango Lassi: A refreshing yogurt-based drink made with mango puree and spices.\\n2. Chai: A spiced tea made with black tea, milk, and spices.\\n3. Jal Jeera: A cumin-flavored drink made with tamarind, mint, and spices.\\n4. Beer and Wine: A selection of Indian and international beers and wines.\\n\\nThese are just a few ideas to get you started. You can always add or modify menu items to suit your taste and preferences. Good luck with your restaurant, Tandoori Nights!'}"
      ]
     },
     "execution_count": 143,
     "metadata": {},
     "output_type": "execute_result"
    }
   ],
   "source": [
    "from langchain.chains import SequentialChain\n",
    "\n",
    "chain = SequentialChain(chains = [name_chain, food_items_chain],\n",
    "                        input_variables=[\"cuisine\"],\n",
    "                        output_variables=[\"restaurant_name\",\"food_items\"])\n",
    "\n",
    "chain({\"cuisine\":\"Indian food\"})"
   ]
  },
  {
   "cell_type": "code",
   "execution_count": null,
   "metadata": {},
   "outputs": [],
   "source": []
  }
 ],
 "metadata": {
  "kernelspec": {
   "display_name": "Langhchain",
   "language": "python",
   "name": "python3"
  },
  "language_info": {
   "codemirror_mode": {
    "name": "ipython",
    "version": 3
   },
   "file_extension": ".py",
   "mimetype": "text/x-python",
   "name": "python",
   "nbconvert_exporter": "python",
   "pygments_lexer": "ipython3",
   "version": "3.13.1"
  }
 },
 "nbformat": 4,
 "nbformat_minor": 2
}
